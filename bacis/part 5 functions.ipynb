{
 "cells": [
  {
   "cell_type": "code",
   "execution_count": 7,
   "id": "7b4e7bb5",
   "metadata": {},
   "outputs": [],
   "source": [
    "def chicken(food,oxygene):\n",
    "    egss = food*oxygene * 0.01\n",
    "    waste = food /(food/2)\n",
    "    return egss, waste"
   ]
  },
  {
   "cell_type": "code",
   "execution_count": 8,
   "id": "e20ef447",
   "metadata": {},
   "outputs": [
    {
     "data": {
      "text/plain": [
       "(25.0, 2.0)"
      ]
     },
     "execution_count": 8,
     "metadata": {},
     "output_type": "execute_result"
    }
   ],
   "source": [
    "chicken(500,5)"
   ]
  },
  {
   "cell_type": "code",
   "execution_count": null,
   "id": "433bc32f",
   "metadata": {},
   "outputs": [],
   "source": []
  },
  {
   "cell_type": "code",
   "execution_count": 10,
   "id": "c50c0f6b",
   "metadata": {},
   "outputs": [],
   "source": [
    "# make a function that takes two numbers and return their sum\n",
    "# make a fuction called total \n",
    "# pressure, value1 and value2 and value 3\n",
    "# return total pressure of valus\n",
    "\n",
    "def caluator(value1,value2,value3):\n",
    "    pressure = value1+value2+value3\n",
    "    return pressure"
   ]
  },
  {
   "cell_type": "code",
   "execution_count": 11,
   "id": "5f7a6ca5",
   "metadata": {},
   "outputs": [
    {
     "data": {
      "text/plain": [
       "135"
      ]
     },
     "execution_count": 11,
     "metadata": {},
     "output_type": "execute_result"
    }
   ],
   "source": [
    "caluator(100,20,15)"
   ]
  },
  {
   "cell_type": "code",
   "execution_count": null,
   "id": "0e4df85b",
   "metadata": {},
   "outputs": [],
   "source": [
    "# ibrahim has to connect for exam but he has liek 3 internet in home (he managed to combine his internet router together so he achieved 60 mbs per second but internet can slow someotime)\n",
    "# he needs 50 mbs per secodn to stay connect individual router speed is 20 mbs per secodn amke a functiont that will give us alarm when total internet speed fals\n"
   ]
  },
  {
   "cell_type": "code",
   "execution_count": 20,
   "id": "016b6785",
   "metadata": {},
   "outputs": [],
   "source": [
    "# in a factory total temperature of room must be below 10c sensors can be accurate but there is tol so \n",
    "# company decided to use 5 sesnros from differnt place and take their average as final value \n",
    "# please maek a fucntion taht takes 5 sensor valeus and return average\n",
    "def avgtemp(s1,s2,s3,s4,s5):\n",
    "    temp=s1+s2+s3+s4+s5\n",
    "    avg=temp/5\n",
    "    return avg"
   ]
  },
  {
   "cell_type": "code",
   "execution_count": 21,
   "id": "8298c891",
   "metadata": {},
   "outputs": [
    {
     "data": {
      "text/plain": [
       "8.2"
      ]
     },
     "execution_count": 21,
     "metadata": {},
     "output_type": "execute_result"
    }
   ],
   "source": [
    "avgtemp(8,10,11,7,5)"
   ]
  },
  {
   "cell_type": "code",
   "execution_count": 22,
   "id": "d11fac5f",
   "metadata": {},
   "outputs": [],
   "source": [
    "## so company found there is need of expensive sensors so it is better to use some dynamic so quadcopter will go there adn will take reading\n",
    "## quadcopeter vased temperature sensor is very accurage so they decide to give 0.8 value to quadcopeter based and 0.2 to avg of other sence ans they retake value"
   ]
  },
  {
   "cell_type": "code",
   "execution_count": 23,
   "id": "ef1de079",
   "metadata": {},
   "outputs": [],
   "source": [
    "def avgtemp2(s1,s2,s3,s4,s5,q1=''):\n",
    "    temp=s1+s2+s3+s4+s5\n",
    "    avg=temp/5\n",
    "    if q1:\n",
    "        return avg *0.2 + q1*0.8\n",
    "    return avg"
   ]
  },
  {
   "cell_type": "code",
   "execution_count": 24,
   "id": "64abd14b",
   "metadata": {},
   "outputs": [
    {
     "data": {
      "text/plain": [
       "9.48"
      ]
     },
     "execution_count": 24,
     "metadata": {},
     "output_type": "execute_result"
    }
   ],
   "source": [
    "avgtemp2(8,9,7,6,7,q1=10)"
   ]
  },
  {
   "cell_type": "code",
   "execution_count": null,
   "id": "fc26147e",
   "metadata": {},
   "outputs": [
    {
     "data": {
      "text/plain": [
       "10.0"
      ]
     },
     "execution_count": 29,
     "metadata": {},
     "output_type": "execute_result"
    }
   ],
   "source": [
    "1*0.1 + 11*0.9 # weghter eaverage"
   ]
  },
  {
   "cell_type": "code",
   "execution_count": null,
   "id": "e161dde6",
   "metadata": {},
   "outputs": [],
   "source": []
  }
 ],
 "metadata": {
  "kernelspec": {
   "display_name": "Python 3",
   "language": "python",
   "name": "python3"
  },
  "language_info": {
   "codemirror_mode": {
    "name": "ipython",
    "version": 3
   },
   "file_extension": ".py",
   "mimetype": "text/x-python",
   "name": "python",
   "nbconvert_exporter": "python",
   "pygments_lexer": "ipython3",
   "version": "3.13.3"
  }
 },
 "nbformat": 4,
 "nbformat_minor": 5
}
