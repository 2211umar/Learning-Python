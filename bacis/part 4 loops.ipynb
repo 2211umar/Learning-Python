{
 "cells": [
  {
   "cell_type": "markdown",
   "id": "b4fa8a84",
   "metadata": {},
   "source": [
    "## how to write a for loop"
   ]
  },
  {
   "cell_type": "code",
   "execution_count": 5,
   "id": "463b30d3",
   "metadata": {},
   "outputs": [
    {
     "name": "stdout",
     "output_type": "stream",
     "text": [
      "here is apple\n",
      "=======================\n",
      "here is orange\n",
      "=======================\n",
      "here is mango\n",
      "=======================\n",
      "here is strawberry\n",
      "=======================\n"
     ]
    }
   ],
   "source": [
    "fruits = ['apple','orange','mango','strawberry']\n",
    "for i in fruits:\n",
    "    print('here is',i)\n",
    "    print('=======================')"
   ]
  },
  {
   "cell_type": "markdown",
   "id": "de84dd5d",
   "metadata": {},
   "source": [
    "### what is a range"
   ]
  },
  {
   "cell_type": "code",
   "execution_count": 7,
   "id": "31e03cab",
   "metadata": {},
   "outputs": [
    {
     "data": {
      "text/plain": [
       "[1, 2, 3, 4, 5, 6, 7, 8, 9, 10]"
      ]
     },
     "execution_count": 7,
     "metadata": {},
     "output_type": "execute_result"
    }
   ],
   "source": [
    "list ( range(1,11) )"
   ]
  },
  {
   "cell_type": "markdown",
   "id": "c8279d53",
   "metadata": {},
   "source": [
    "### how to print counting"
   ]
  },
  {
   "cell_type": "code",
   "execution_count": 8,
   "id": "ee31a363",
   "metadata": {},
   "outputs": [
    {
     "name": "stdout",
     "output_type": "stream",
     "text": [
      "1\n",
      "2\n",
      "3\n",
      "4\n",
      "5\n",
      "6\n",
      "7\n",
      "8\n",
      "9\n",
      "10\n",
      "11\n",
      "12\n",
      "13\n",
      "14\n",
      "15\n",
      "16\n",
      "17\n",
      "18\n",
      "19\n",
      "20\n",
      "21\n",
      "22\n",
      "23\n",
      "24\n",
      "25\n",
      "26\n",
      "27\n",
      "28\n",
      "29\n",
      "30\n",
      "31\n",
      "32\n",
      "33\n",
      "34\n",
      "35\n",
      "36\n",
      "37\n",
      "38\n",
      "39\n",
      "40\n",
      "41\n",
      "42\n",
      "43\n",
      "44\n",
      "45\n",
      "46\n",
      "47\n",
      "48\n",
      "49\n",
      "50\n",
      "51\n",
      "52\n",
      "53\n",
      "54\n",
      "55\n",
      "56\n",
      "57\n",
      "58\n",
      "59\n",
      "60\n",
      "61\n",
      "62\n",
      "63\n",
      "64\n",
      "65\n",
      "66\n",
      "67\n",
      "68\n",
      "69\n",
      "70\n",
      "71\n",
      "72\n",
      "73\n",
      "74\n",
      "75\n",
      "76\n",
      "77\n",
      "78\n",
      "79\n",
      "80\n",
      "81\n",
      "82\n",
      "83\n",
      "84\n",
      "85\n",
      "86\n",
      "87\n",
      "88\n",
      "89\n",
      "90\n",
      "91\n",
      "92\n",
      "93\n",
      "94\n",
      "95\n",
      "96\n",
      "97\n",
      "98\n",
      "99\n"
     ]
    }
   ],
   "source": [
    "for i in range(1,100):\n",
    "    print(i)"
   ]
  },
  {
   "cell_type": "markdown",
   "id": "3b8413bd",
   "metadata": {},
   "source": [
    "## how to write while loop"
   ]
  },
  {
   "cell_type": "code",
   "execution_count": 10,
   "id": "ca55cf5f",
   "metadata": {},
   "outputs": [
    {
     "name": "stdout",
     "output_type": "stream",
     "text": [
      "0\n",
      "20\n",
      "40\n",
      "60\n",
      "80\n",
      "100\n"
     ]
    }
   ],
   "source": [
    "i = 0\n",
    "while i <= 100:\n",
    "    print(i)\n",
    "    i = i + 20"
   ]
  },
  {
   "cell_type": "markdown",
   "id": "23b47cff",
   "metadata": {},
   "source": [
    "#### guessing game usign for loop "
   ]
  },
  {
   "cell_type": "code",
   "execution_count": 2,
   "id": "723dff46",
   "metadata": {},
   "outputs": [
    {
     "name": "stdout",
     "output_type": "stream",
     "text": [
      "user entered 50\n",
      "computer values is bigger\n",
      "user entered 75\n",
      "computer value is smaller\n",
      "user entered 65\n",
      "computer value is smaller\n",
      "user entered 60\n",
      "computer values is bigger\n",
      "user entered 60\n",
      "computer values is bigger\n",
      "user entered 63\n",
      "computer value is smaller\n",
      "user entered 64\n",
      "computer value is smaller\n",
      "user entered 63\n",
      "computer value is smaller\n",
      "user entered 62\n",
      "matches\n"
     ]
    }
   ],
   "source": [
    "import random \n",
    "computer = random.randint(1,100)\n",
    "\n",
    "for i in range(1,11):\n",
    "    user = int(input(f'trail {i} enter the number:'))\n",
    "    print(f'user entered {user}')\n",
    "    if computer == user:\n",
    "        print('matches')\n",
    "        break\n",
    "    else:\n",
    "        if computer < user:\n",
    "            print('computer value is smaller')\n",
    "        else:\n",
    "            print('computer values is bigger')"
   ]
  },
  {
   "cell_type": "code",
   "execution_count": 2,
   "id": "9060cab8",
   "metadata": {},
   "outputs": [
    {
     "name": "stdout",
     "output_type": "stream",
     "text": [
      "user entered 500\n",
      "computer value is smaller\n",
      "user entered 225\n",
      "computer value is smaller\n",
      "user entered 150\n",
      "computer value is smaller\n",
      "user entered 100\n",
      "computer value is smaller\n",
      "user entered 50\n",
      "computer values is bigger\n",
      "user entered 75\n",
      "computer value is smaller\n",
      "user entered 60\n",
      "computer values is bigger\n",
      "user entered 68\n",
      "computer value is smaller\n",
      "user entered 65\n",
      "computer value is smaller\n",
      "user entered 64\n",
      "computer value is smaller\n",
      "user entered 63\n",
      "computer value is smaller\n",
      "user entered 62\n",
      "computer value is smaller\n",
      "user entered 61\n",
      "matches\n",
      "program eneded\n"
     ]
    }
   ],
   "source": [
    "import random \n",
    "computer = random.randint(1,1000)\n",
    "x = ''\n",
    "i = 0\n",
    "while x!='stop':\n",
    "    user = int(input(f'trail {i} enter the number:'))\n",
    "    print(f'user entered {user}')\n",
    "    if computer == user:\n",
    "        print('matches')\n",
    "        x='stop'\n",
    "    else:\n",
    "        if computer < user:\n",
    "            print('computer value is smaller')\n",
    "        else:\n",
    "            print('computer values is bigger')\n",
    "    i += 1\n",
    "print('program eneded')\n",
    "    "
   ]
  },
  {
   "cell_type": "markdown",
   "id": "a59062b7",
   "metadata": {},
   "source": [
    "```\n",
    "### we need to create a system\n",
    "## if user enter username and password and that is present in dictionary and password is confirmed then print login\n",
    "## if password in wrong give another option to write passwrod\n",
    "## if username is wrong give option to sign up\n",
    "## so on\n",
    "\n",
    "\n",
    "```"
   ]
  },
  {
   "cell_type": "code",
   "execution_count": null,
   "id": "8d774b4e",
   "metadata": {},
   "outputs": [
    {
     "data": {
      "text/plain": [
       "True"
      ]
     },
     "execution_count": 6,
     "metadata": {},
     "output_type": "execute_result"
    }
   ],
   "source": [
    "data = {\n",
    "    'ibrahim':'ibrahim1',\n",
    "    'umair':'umair1'\n",
    "}\n",
    "# if i have to add new data\n",
    "data['umer'] = 'umer1'\n",
    "data\n",
    "\n",
    "# confirm is data has key ibrahim and value ibhrahim1\n",
    "data['ibrahim'] == 'ibrahim1'\n",
    "\n"
   ]
  },
  {
   "cell_type": "code",
   "execution_count": 12,
   "id": "eaa66b85",
   "metadata": {},
   "outputs": [
    {
     "name": "stdout",
     "output_type": "stream",
     "text": [
      "hello\n",
      "welcome to website!!!!!\n"
     ]
    }
   ],
   "source": [
    "allow = 'no'\n",
    "username = input('please enter username: ')\n",
    "password = input('password ')\n",
    "if username in data : \n",
    "    if  password == data[username]:\n",
    "        print(\"hello\")\n",
    "        allow = 'yes'\n",
    "    else:\n",
    "        print('sorry wrong password')\n",
    "else:\n",
    "    print('username is worng sign up')\n",
    "    question = input('do you want to sign up? press y for ys and any other key for no')\n",
    "    if question =='y':    \n",
    "        nuser = input('please enter username: ')\n",
    "        npass = input('password ')\n",
    "        data[nuser] = npass\n",
    "\n",
    "\n",
    "if allow =='yes':\n",
    "    print('welcome to website!!!!!')\n",
    "\n",
    "    "
   ]
  },
  {
   "cell_type": "code",
   "execution_count": 4,
   "id": "5c670efa",
   "metadata": {},
   "outputs": [
    {
     "name": "stdout",
     "output_type": "stream",
     "text": [
      "-100\n",
      "negative\n",
      "\n",
      "100\n",
      "positive\n",
      "\n",
      "200\n",
      "positive\n",
      "\n",
      "300\n",
      "positive\n",
      "\n",
      "-400\n",
      "negative\n",
      "\n",
      "500\n",
      "positive\n",
      "\n",
      "-500\n",
      "negative\n",
      "\n",
      "32\n",
      "positive\n",
      "\n",
      "5345\n",
      "positive\n",
      "\n"
     ]
    }
   ],
   "source": [
    "numbers = [-100,100,200,300,-400,500,-500,32,5345]\n",
    "for number in numbers:\n",
    "    print(number)\n",
    "    number = int(number)\n",
    "    if number >0:\n",
    "        print('positive')\n",
    "    elif number ==0:\n",
    "        print('zero')\n",
    "    else:\n",
    "        print('negative')\n",
    "    print()"
   ]
  },
  {
   "cell_type": "code",
   "execution_count": null,
   "id": "fbb8960a",
   "metadata": {},
   "outputs": [],
   "source": []
  }
 ],
 "metadata": {
  "kernelspec": {
   "display_name": "Python 3",
   "language": "python",
   "name": "python3"
  },
  "language_info": {
   "codemirror_mode": {
    "name": "ipython",
    "version": 3
   },
   "file_extension": ".py",
   "mimetype": "text/x-python",
   "name": "python",
   "nbconvert_exporter": "python",
   "pygments_lexer": "ipython3",
   "version": "3.13.3"
  }
 },
 "nbformat": 4,
 "nbformat_minor": 5
}
