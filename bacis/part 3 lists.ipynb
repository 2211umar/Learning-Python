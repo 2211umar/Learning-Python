{
 "cells": [
  {
   "cell_type": "code",
   "execution_count": 1,
   "id": "34e9890c",
   "metadata": {},
   "outputs": [
    {
     "name": "stdout",
     "output_type": "stream",
     "text": [
      "i like APPLE\n",
      "i like orange\n",
      "i like mango\n",
      "i like starwberry\n"
     ]
    }
   ],
   "source": [
    "V = ['APPLE','orange','mango','starwberry']\n",
    "for f in V:\n",
    "    print('i like', f)"
   ]
  },
  {
   "cell_type": "code",
   "execution_count": 2,
   "id": "dfe82471",
   "metadata": {},
   "outputs": [],
   "source": [
    "# make a list of your friend names and send them invitation for lunch"
   ]
  },
  {
   "cell_type": "code",
   "execution_count": 4,
   "id": "58b84f10",
   "metadata": {},
   "outputs": [
    {
     "name": "stdout",
     "output_type": "stream",
     "text": [
      "Hello hamzah you are invited\n",
      "Hello akram you are invited\n",
      "Hello rakin you are invited\n",
      "Hello omar you are invited\n"
     ]
    }
   ],
   "source": [
    "friends = ['hamzah','akram','rakin','omar']\n",
    "for e in friends:\n",
    "    print(f'Hello {e} you are invited' )"
   ]
  },
  {
   "cell_type": "code",
   "execution_count": 6,
   "id": "6a631e9a",
   "metadata": {},
   "outputs": [
    {
     "name": "stdout",
     "output_type": "stream",
     "text": [
      "hamzah\n",
      "akram\n",
      "rakin\n",
      "omar\n"
     ]
    }
   ],
   "source": [
    "for i in range (len(friends)):\n",
    "    print(friends[i])"
   ]
  },
  {
   "cell_type": "code",
   "execution_count": 11,
   "id": "2d06c10f",
   "metadata": {},
   "outputs": [
    {
     "name": "stdout",
     "output_type": "stream",
     "text": [
      "apple\n"
     ]
    }
   ],
   "source": [
    "numbers  = [10,20,34,3435,4545,646,74,646,54,54,45,4545,4545,4545,56,464564,45,45,4,54,54,454,54,5,4,55,646456,645645,6456,'apple']\n",
    "print(numbers[-1])"
   ]
  },
  {
   "cell_type": "code",
   "execution_count": 17,
   "id": "249e3446",
   "metadata": {},
   "outputs": [
    {
     "name": "stdout",
     "output_type": "stream",
     "text": [
      "ibrahim\n"
     ]
    }
   ],
   "source": [
    "complex_list = [0,1,['apple','orange'],['umair','ibrahim'],'abdullah']\n",
    "print(complex_list[-2][1])\n"
   ]
  },
  {
   "cell_type": "code",
   "execution_count": null,
   "id": "970bbba4",
   "metadata": {},
   "outputs": [],
   "source": []
  }
 ],
 "metadata": {
  "kernelspec": {
   "display_name": "Python 3",
   "language": "python",
   "name": "python3"
  },
  "language_info": {
   "codemirror_mode": {
    "name": "ipython",
    "version": 3
   },
   "file_extension": ".py",
   "mimetype": "text/x-python",
   "name": "python",
   "nbconvert_exporter": "python",
   "pygments_lexer": "ipython3",
   "version": "3.13.3"
  }
 },
 "nbformat": 4,
 "nbformat_minor": 5
}
