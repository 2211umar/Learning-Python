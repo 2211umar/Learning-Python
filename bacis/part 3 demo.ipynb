{
 "cells": [
  {
   "cell_type": "code",
   "execution_count": null,
   "id": "0bd3b16e",
   "metadata": {},
   "outputs": [
    {
     "data": {
      "text/plain": [
       "'=.= ia ao cool ==..==='"
      ]
     },
     "execution_count": 2,
     "metadata": {},
     "output_type": "execute_result"
    }
   ],
   "source": [
    "':> ia ao cool :D'.replace(':>','=.=').replace(':D','==..===')"
   ]
  },
  {
   "cell_type": "code",
   "execution_count": null,
   "id": "744639f1",
   "metadata": {},
   "outputs": [],
   "source": []
  }
 ],
 "metadata": {
  "kernelspec": {
   "display_name": "Python 3",
   "language": "python",
   "name": "python3"
  },
  "language_info": {
   "codemirror_mode": {
    "name": "ipython",
    "version": 3
   },
   "file_extension": ".py",
   "mimetype": "text/x-python",
   "name": "python",
   "nbconvert_exporter": "python",
   "pygments_lexer": "ipython3",
   "version": "3.13.3"
  }
 },
 "nbformat": 4,
 "nbformat_minor": 5
}
