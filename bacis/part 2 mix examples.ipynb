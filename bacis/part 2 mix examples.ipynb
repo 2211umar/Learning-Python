{
 "cells": [
  {
   "cell_type": "code",
   "execution_count": 1,
   "id": "ef16239f",
   "metadata": {},
   "outputs": [],
   "source": [
    "fruits = ['apple','orange','mango']"
   ]
  },
  {
   "cell_type": "code",
   "execution_count": 2,
   "id": "ce96a70e",
   "metadata": {},
   "outputs": [],
   "source": [
    "fruit = {'banana':'yellow' , 'apple':'red'}"
   ]
  },
  {
   "cell_type": "markdown",
   "id": "f05b1bd0",
   "metadata": {},
   "source": [
    "### Conditions"
   ]
  },
  {
   "cell_type": "code",
   "execution_count": 3,
   "id": "cb548062",
   "metadata": {},
   "outputs": [
    {
     "name": "stdout",
     "output_type": "stream",
     "text": [
      "turn off fan\n"
     ]
    }
   ],
   "source": [
    "temperature = 29\n",
    "if temperature > 30:\n",
    "    print('turn fan on')\n",
    "else:\n",
    "    print('turn off fan')"
   ]
  },
  {
   "cell_type": "code",
   "execution_count": 7,
   "id": "a0c2f9ab",
   "metadata": {},
   "outputs": [
    {
     "name": "stdout",
     "output_type": "stream",
     "text": [
      "nice\n"
     ]
    }
   ],
   "source": [
    "# make a coed if speed is more than 80 print you got a ticket, else no rpoblem\n",
    "speed = int(input('enter the speed: '))\n",
    "if speed > 80:\n",
    "    print('slow down')\n",
    "else:\n",
    "    print('nice')"
   ]
  },
  {
   "cell_type": "code",
   "execution_count": 13,
   "id": "6fd390ad",
   "metadata": {},
   "outputs": [
    {
     "name": "stdout",
     "output_type": "stream",
     "text": [
      "logged in\n"
     ]
    }
   ],
   "source": [
    "username = 'ibrahim'\n",
    "password = 'aus1234'\n",
    "\n",
    "userinput = input(' username ')\n",
    "passcode = input('password')\n",
    "if userinput == username:\n",
    "    if password == passcode:\n",
    "        print('logged in')\n",
    "    else:\n",
    "        print('wrong password')\n",
    "else:\n",
    "    print('wrong username')\n",
    "\n",
    "#ask user to enter the username and if username is correct ask use to enter password if password is also corrent print sign in else print wrong password\n"
   ]
  },
  {
   "cell_type": "code",
   "execution_count": 28,
   "id": "4fa25dad",
   "metadata": {},
   "outputs": [
    {
     "name": "stdout",
     "output_type": "stream",
     "text": [
      "too low\n",
      "too high\n",
      "too low\n",
      "too low\n",
      "too high\n",
      "too high\n",
      "you guessed it in  6 th tial\n",
      "the number was actually  71\n"
     ]
    }
   ],
   "source": [
    "import random\n",
    "x = random.randint(1,100)\n",
    "\n",
    "for i in range(10):\n",
    "    user = int(input('guess')) \n",
    "    if user > x :\n",
    "        print('too high')\n",
    "    elif user < x :\n",
    "        print('too low')\n",
    "    elif user == x:\n",
    "        print('you guessed it in ',i,'th tial')\n",
    "        break\n",
    "        \n",
    "print('the number was actually ',x)\n"
   ]
  },
  {
   "cell_type": "code",
   "execution_count": 33,
   "id": "a3a6a92e",
   "metadata": {},
   "outputs": [
    {
     "name": "stdout",
     "output_type": "stream",
     "text": [
      "invalid\n",
      "bot chooses r\n"
     ]
    }
   ],
   "source": [
    "options = ['r','p','s']\n",
    "x = random.choice(options)\n",
    "\n",
    "user = input(\"r or p or s: \")\n",
    "\n",
    "if x == user:\n",
    "    print('draw')\n",
    "elif x == 'p' and user == 'r':\n",
    "    print('bot win')\n",
    "elif x == 'r' and user == 'p':\n",
    "    print('player win')\n",
    "elif x == 's' and user == 'r':\n",
    "    print('bot win')\n",
    "elif x == 'r' and user == 'p':\n",
    "    print('player win')\n",
    "elif x == 'r' and user == 'r':\n",
    "    print('bot win')\n",
    "elif x == 'r' and user == 'p':\n",
    "    print('player win')\n",
    "elif x == 'p' and user == 'r':\n",
    "    print('bot win')\n",
    "elif x == 'r' and user == 'p':\n",
    "    print('player win')\n",
    "else:\n",
    "    print('invalid')\n",
    "\n",
    "\n",
    "print('bot chooses',x)\n"
   ]
  },
  {
   "cell_type": "code",
   "execution_count": 37,
   "id": "4274332f",
   "metadata": {},
   "outputs": [
    {
     "name": "stdout",
     "output_type": "stream",
     "text": [
      "draw\n",
      "you choose  p\n",
      "bot chooses p\n",
      "user won\n",
      "you choose  r\n",
      "bot chooses s\n",
      "draw\n",
      "you choose  s\n",
      "bot chooses s\n"
     ]
    }
   ],
   "source": [
    "options = ['r','p','s']\n",
    "\n",
    "\n",
    "for i in range(3):\n",
    "    x = random.choice(options)\n",
    "\n",
    "    user = input(\"r or p or s: \")\n",
    "\n",
    "    if x == user:\n",
    "        print('draw')\n",
    "    elif ( x == 'p' and user == 'r') or ( x == 'r' and user == 's') or ( x == 's' and user == 'p'):\n",
    "        print('bot won')\n",
    "    elif ( user == 'p' and x == 'r') or ( user == 'r' and x == 's') or ( user == 's' and x == 'p'):\n",
    "        print('user won')\n",
    "    else:\n",
    "        print('invalid data entered')\n",
    "\n",
    "    print('you choose ',user)\n",
    "    print('bot chooses',x)\n",
    "\n"
   ]
  },
  {
   "cell_type": "code",
   "execution_count": null,
   "id": "c62c0fc6",
   "metadata": {},
   "outputs": [],
   "source": []
  }
 ],
 "metadata": {
  "kernelspec": {
   "display_name": "Python 3",
   "language": "python",
   "name": "python3"
  },
  "language_info": {
   "codemirror_mode": {
    "name": "ipython",
    "version": 3
   },
   "file_extension": ".py",
   "mimetype": "text/x-python",
   "name": "python",
   "nbconvert_exporter": "python",
   "pygments_lexer": "ipython3",
   "version": "3.13.3"
  }
 },
 "nbformat": 4,
 "nbformat_minor": 5
}
